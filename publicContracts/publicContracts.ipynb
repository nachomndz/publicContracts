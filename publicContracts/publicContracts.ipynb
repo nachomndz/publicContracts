{
  "nbformat": 4,
  "nbformat_minor": 0,
  "metadata": {
    "colab": {
      "name": "Untitled1.ipynb",
      "provenance": [],
      "collapsed_sections": []
    },
    "kernelspec": {
      "name": "python3",
      "display_name": "Python 3"
    },
    "language_info": {
      "name": "python"
    }
  },
  "cells": [
    {
      "cell_type": "markdown",
      "metadata": {
        "id": "ntHv67c9NnFc"
      },
      "source": [
        "#Instalacion de paquetes necesarios"
      ]
    },
    {
      "cell_type": "code",
      "metadata": {
        "colab": {
          "base_uri": "https://localhost:8080/"
        },
        "id": "OBD8zjJRNZRL",
        "outputId": "f467cd5f-0563-495b-eec7-b776b06c2bc8"
      },
      "source": [
        "!pip install selenium\n",
        "!apt-get update # to update ubuntu to correctly run apt install\n",
        "!apt install chromium-chromedriver\n",
        "!cp /usr/lib/chromium-browser/chromedriver /usr/bin\n",
        "!pip install tweepy\n",
        "\n",
        "import sys\n",
        "import time\n",
        "sys.path.insert(0,'/usr/lib/chromium-browser/chromedriver')\n",
        "from selenium import webdriver\n",
        "from datetime import date\n",
        "import datetime\n",
        "chrome_options = webdriver.ChromeOptions()\n",
        "chrome_options.add_argument('--headless')\n",
        "chrome_options.add_argument('--no-sandbox')\n",
        "chrome_options.add_argument('--disable-dev-shm-usage')"
      ],
      "execution_count": 3,
      "outputs": [
        {
          "output_type": "stream",
          "text": [
            "Requirement already satisfied: selenium in /usr/local/lib/python3.7/dist-packages (3.141.0)\n",
            "Requirement already satisfied: urllib3 in /usr/local/lib/python3.7/dist-packages (from selenium) (1.24.3)\n",
            "Hit:1 https://cloud.r-project.org/bin/linux/ubuntu bionic-cran40/ InRelease\n",
            "Ign:2 https://developer.download.nvidia.com/compute/cuda/repos/ubuntu1804/x86_64  InRelease\n",
            "Hit:3 http://security.ubuntu.com/ubuntu bionic-security InRelease\n",
            "Ign:4 https://developer.download.nvidia.com/compute/machine-learning/repos/ubuntu1804/x86_64  InRelease\n",
            "Hit:5 https://developer.download.nvidia.com/compute/cuda/repos/ubuntu1804/x86_64  Release\n",
            "Hit:6 https://developer.download.nvidia.com/compute/machine-learning/repos/ubuntu1804/x86_64  Release\n",
            "Hit:7 http://archive.ubuntu.com/ubuntu bionic InRelease\n",
            "Hit:8 http://ppa.launchpad.net/c2d4u.team/c2d4u4.0+/ubuntu bionic InRelease\n",
            "Hit:9 http://archive.ubuntu.com/ubuntu bionic-updates InRelease\n",
            "Hit:10 http://archive.ubuntu.com/ubuntu bionic-backports InRelease\n",
            "Hit:11 http://ppa.launchpad.net/cran/libgit2/ubuntu bionic InRelease\n",
            "Hit:13 http://ppa.launchpad.net/deadsnakes/ppa/ubuntu bionic InRelease\n",
            "Hit:15 http://ppa.launchpad.net/graphics-drivers/ppa/ubuntu bionic InRelease\n",
            "Reading package lists... Done\n",
            "Reading package lists... Done\n",
            "Building dependency tree       \n",
            "Reading state information... Done\n",
            "chromium-chromedriver is already the newest version (89.0.4389.90-0ubuntu0.18.04.2).\n",
            "0 upgraded, 0 newly installed, 0 to remove and 50 not upgraded.\n",
            "cp: '/usr/lib/chromium-browser/chromedriver' and '/usr/bin/chromedriver' are the same file\n",
            "Requirement already satisfied: tweepy in /usr/local/lib/python3.7/dist-packages (3.10.0)\n",
            "Requirement already satisfied: six>=1.10.0 in /usr/local/lib/python3.7/dist-packages (from tweepy) (1.15.0)\n",
            "Requirement already satisfied: requests[socks]>=2.11.1 in /usr/local/lib/python3.7/dist-packages (from tweepy) (2.23.0)\n",
            "Requirement already satisfied: requests-oauthlib>=0.7.0 in /usr/local/lib/python3.7/dist-packages (from tweepy) (1.3.0)\n",
            "Requirement already satisfied: certifi>=2017.4.17 in /usr/local/lib/python3.7/dist-packages (from requests[socks]>=2.11.1->tweepy) (2020.12.5)\n",
            "Requirement already satisfied: urllib3!=1.25.0,!=1.25.1,<1.26,>=1.21.1 in /usr/local/lib/python3.7/dist-packages (from requests[socks]>=2.11.1->tweepy) (1.24.3)\n",
            "Requirement already satisfied: chardet<4,>=3.0.2 in /usr/local/lib/python3.7/dist-packages (from requests[socks]>=2.11.1->tweepy) (3.0.4)\n",
            "Requirement already satisfied: idna<3,>=2.5 in /usr/local/lib/python3.7/dist-packages (from requests[socks]>=2.11.1->tweepy) (2.10)\n",
            "Requirement already satisfied: PySocks!=1.5.7,>=1.5.6; extra == \"socks\" in /usr/local/lib/python3.7/dist-packages (from requests[socks]>=2.11.1->tweepy) (1.7.1)\n",
            "Requirement already satisfied: oauthlib>=3.0.0 in /usr/local/lib/python3.7/dist-packages (from requests-oauthlib>=0.7.0->tweepy) (3.1.0)\n"
          ],
          "name": "stdout"
        }
      ]
    },
    {
      "cell_type": "code",
      "metadata": {
        "colab": {
          "base_uri": "https://localhost:8080/"
        },
        "id": "vaaRM0XROQJs",
        "outputId": "48a2acd7-2b32-4336-81bf-790b38e61428"
      },
      "source": [
        "chrome_options = webdriver.ChromeOptions()\n",
        "chrome_options.add_argument('--headless')\n",
        "chrome_options.add_argument('--no-sandbox')\n",
        "chrome_options.add_argument('--disable-dev-shm-usage')\n",
        "driver = webdriver.Chrome('chromedriver',chrome_options=chrome_options) #Inicializamos el driver\n",
        "#pagina del buscador\n",
        "driver.get('https://www.juntadeandalucia.es/temas/contratacion-publica/perfiles-licitaciones/buscador-general.html')\n",
        "\n",
        "\n",
        "\n",
        "\n",
        "#wait.until(ExpectedConditions.visibilityOf(\"//input[@name='buscar' and contains(@class,'boton') and contains(@value,'Buscar')] \"))\n",
        "driver.find_element_by_xpath(\"//input[@name='buscar' and contains(@class,'boton') and contains(@value,'Buscar')] \").click()\n",
        "driver.implicitly_wait(15)\n",
        "\n",
        "caja_paginas = driver.find_element_by_class_name(\"paginado.alpha.omega\").find_elements_by_css_selector(\"*\")\n",
        "href_lista_paginas = []\n",
        "for pagina in caja_paginas:\n",
        "    if (pagina.get_property(\"href\") != None and \">\" not in pagina.get_attribute(\"innerText\")):\n",
        "      href_lista_paginas.append(pagina.get_property(\"href\"))\n",
        "      print(pagina.get_property(\"href\"))\n",
        "\n",
        "len(caja_paginas)\n",
        "\n",
        "print(\"NUMERO DE PÁGINAS: \" + str(len(href_lista_paginas)))\n",
        "\n",
        "href_lista = []\n",
        "for href_pag in href_lista_paginas:\n",
        "  driver.get(href_pag)\n",
        "  lista_a = driver.find_elements_by_class_name(\"odd\" or \"even\") #Sacamos la lista de elementos <a> que contienen el href de cada contrato \n",
        "  for element in lista_a:\n",
        "    href = element.get_property(\"href\")\n",
        "    href_lista.append(href)\n",
        "  href_lista = href_lista[:len(href_lista)-1] #Eliminamos el útlimo elemento porque es el elemento: SUBIR\n",
        "\n",
        "print(href_lista)"
      ],
      "execution_count": 34,
      "outputs": [
        {
          "output_type": "stream",
          "text": [
            "/usr/local/lib/python3.7/dist-packages/ipykernel_launcher.py:5: DeprecationWarning: use options instead of chrome_options\n",
            "  \"\"\"\n"
          ],
          "name": "stderr"
        },
        {
          "output_type": "stream",
          "text": [
            "https://www.juntadeandalucia.es/temas/contratacion-publica/perfiles-licitaciones/buscador-general.html?pagina=1&orden=lastPublicationDate&estadoLicitacion=todos&subEstado=todos&tipoContrato=todos&clausulasSociales=&clausulasAmbientales=&procedimiento=todos&sistemaContratacion=todos&cofinanciado=todos&origenCofinanciacion=todos&tramitacion=todas&forma_presentacion=todas&lugarEjecucion=todas&referenciaDiariosOficiales=todos&tipoConvocatoria=todos&buscar=Buscar\n",
            "https://www.juntadeandalucia.es/temas/contratacion-publica/perfiles-licitaciones/buscador-general.html?pagina=1&orden=lastPublicationDate&estadoLicitacion=todos&subEstado=todos&tipoContrato=todos&clausulasSociales=&clausulasAmbientales=&procedimiento=todos&sistemaContratacion=todos&cofinanciado=todos&origenCofinanciacion=todos&tramitacion=todas&forma_presentacion=todas&lugarEjecucion=todas&referenciaDiariosOficiales=todos&tipoConvocatoria=todos&buscar=Buscar\n",
            "https://www.juntadeandalucia.es/temas/contratacion-publica/perfiles-licitaciones/buscador-general.html?pagina=1&orden=lastPublicationDate&estadoLicitacion=todos&subEstado=todos&tipoContrato=todos&clausulasSociales=&clausulasAmbientales=&procedimiento=todos&sistemaContratacion=todos&cofinanciado=todos&origenCofinanciacion=todos&tramitacion=todas&forma_presentacion=todas&lugarEjecucion=todas&referenciaDiariosOficiales=todos&tipoConvocatoria=todos&buscar=Buscar\n",
            "https://www.juntadeandalucia.es/temas/contratacion-publica/perfiles-licitaciones/buscador-general.html?pagina=2&orden=lastPublicationDate&estadoLicitacion=todos&subEstado=todos&tipoContrato=todos&clausulasSociales=&clausulasAmbientales=&procedimiento=todos&sistemaContratacion=todos&cofinanciado=todos&origenCofinanciacion=todos&tramitacion=todas&forma_presentacion=todas&lugarEjecucion=todas&referenciaDiariosOficiales=todos&tipoConvocatoria=todos&buscar=Buscar\n",
            "https://www.juntadeandalucia.es/temas/contratacion-publica/perfiles-licitaciones/buscador-general.html?pagina=3&orden=lastPublicationDate&estadoLicitacion=todos&subEstado=todos&tipoContrato=todos&clausulasSociales=&clausulasAmbientales=&procedimiento=todos&sistemaContratacion=todos&cofinanciado=todos&origenCofinanciacion=todos&tramitacion=todas&forma_presentacion=todas&lugarEjecucion=todas&referenciaDiariosOficiales=todos&tipoConvocatoria=todos&buscar=Buscar\n",
            "https://www.juntadeandalucia.es/temas/contratacion-publica/perfiles-licitaciones/buscador-general.html?pagina=4&orden=lastPublicationDate&estadoLicitacion=todos&subEstado=todos&tipoContrato=todos&clausulasSociales=&clausulasAmbientales=&procedimiento=todos&sistemaContratacion=todos&cofinanciado=todos&origenCofinanciacion=todos&tramitacion=todas&forma_presentacion=todas&lugarEjecucion=todas&referenciaDiariosOficiales=todos&tipoConvocatoria=todos&buscar=Buscar\n",
            "https://www.juntadeandalucia.es/temas/contratacion-publica/perfiles-licitaciones/buscador-general.html?pagina=5&orden=lastPublicationDate&estadoLicitacion=todos&subEstado=todos&tipoContrato=todos&clausulasSociales=&clausulasAmbientales=&procedimiento=todos&sistemaContratacion=todos&cofinanciado=todos&origenCofinanciacion=todos&tramitacion=todas&forma_presentacion=todas&lugarEjecucion=todas&referenciaDiariosOficiales=todos&tipoConvocatoria=todos&buscar=Buscar\n",
            "https://www.juntadeandalucia.es/temas/contratacion-publica/perfiles-licitaciones/buscador-general.html?pagina=2&orden=lastPublicationDate&estadoLicitacion=todos&subEstado=todos&tipoContrato=todos&clausulasSociales=&clausulasAmbientales=&procedimiento=todos&sistemaContratacion=todos&cofinanciado=todos&origenCofinanciacion=todos&tramitacion=todas&forma_presentacion=todas&lugarEjecucion=todas&referenciaDiariosOficiales=todos&tipoConvocatoria=todos&buscar=Buscar\n",
            "https://www.juntadeandalucia.es/temas/contratacion-publica/perfiles-licitaciones/buscador-general.html?pagina=5964&orden=lastPublicationDate&estadoLicitacion=todos&subEstado=todos&tipoContrato=todos&clausulasSociales=&clausulasAmbientales=&procedimiento=todos&sistemaContratacion=todos&cofinanciado=todos&origenCofinanciacion=todos&tramitacion=todas&forma_presentacion=todas&lugarEjecucion=todas&referenciaDiariosOficiales=todos&tipoConvocatoria=todos&buscar=Buscar\n",
            "NUMERO DE PÁGINAS: 9\n",
            "[None, None, None, None, None, None, None, None, None, None, None, None, None, None, None, None, None, None, None, None, None, None, None, None, None, None, None, None, None, None, None, None, None, None, None, None]\n"
          ],
          "name": "stdout"
        }
      ]
    }
  ]
}